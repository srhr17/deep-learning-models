{
  "nbformat": 4,
  "nbformat_minor": 0,
  "metadata": {
    "colab": {
      "name": "udemy_ANN.ipynb",
      "provenance": [],
      "authorship_tag": "ABX9TyMiKI7GpUYE+zjSWzH3ywrC",
      "include_colab_link": true
    },
    "kernelspec": {
      "name": "python3",
      "display_name": "Python 3"
    }
  },
  "cells": [
    {
      "cell_type": "markdown",
      "metadata": {
        "id": "view-in-github",
        "colab_type": "text"
      },
      "source": [
        "<a href=\"https://colab.research.google.com/github/srhr17/deep-learning-models/blob/master/udemy_ANN.ipynb\" target=\"_parent\"><img src=\"https://colab.research.google.com/assets/colab-badge.svg\" alt=\"Open In Colab\"/></a>"
      ]
    },
    {
      "cell_type": "code",
      "metadata": {
        "id": "rDvtquVPSvlf",
        "colab_type": "code",
        "colab": {}
      },
      "source": [
        "import pandas as pd\n",
        "import numpy as np\n",
        "from google.colab import drive"
      ],
      "execution_count": 0,
      "outputs": []
    },
    {
      "cell_type": "code",
      "metadata": {
        "id": "ya5x5Xh4R79z",
        "colab_type": "code",
        "colab": {
          "base_uri": "https://localhost:8080/",
          "height": 124
        },
        "outputId": "58a6c13a-16b0-4ed4-ddab-a74f199734f3"
      },
      "source": [
        "drive.mount('/content/drive')"
      ],
      "execution_count": 4,
      "outputs": [
        {
          "output_type": "stream",
          "text": [
            "Go to this URL in a browser: https://accounts.google.com/o/oauth2/auth?client_id=947318989803-6bn6qk8qdgf4n4g3pfee6491hc0brc4i.apps.googleusercontent.com&redirect_uri=urn%3aietf%3awg%3aoauth%3a2.0%3aoob&response_type=code&scope=email%20https%3a%2f%2fwww.googleapis.com%2fauth%2fdocs.test%20https%3a%2f%2fwww.googleapis.com%2fauth%2fdrive%20https%3a%2f%2fwww.googleapis.com%2fauth%2fdrive.photos.readonly%20https%3a%2f%2fwww.googleapis.com%2fauth%2fpeopleapi.readonly\n",
            "\n",
            "Enter your authorization code:\n",
            "··········\n",
            "Mounted at /content/drive\n"
          ],
          "name": "stdout"
        }
      ]
    },
    {
      "cell_type": "code",
      "metadata": {
        "id": "AaAk1WINSMj2",
        "colab_type": "code",
        "colab": {}
      },
      "source": [
        "from keras.models import Sequential\n",
        "from keras.layers import Dense"
      ],
      "execution_count": 0,
      "outputs": []
    },
    {
      "cell_type": "code",
      "metadata": {
        "id": "xxDTqq-MSuAA",
        "colab_type": "code",
        "colab": {}
      },
      "source": [
        "df=pd.read_csv('sample_data/california_housing_train.csv')"
      ],
      "execution_count": 0,
      "outputs": []
    },
    {
      "cell_type": "code",
      "metadata": {
        "id": "ck_mvZSGS9vu",
        "colab_type": "code",
        "colab": {
          "base_uri": "https://localhost:8080/",
          "height": 34
        },
        "outputId": "cd8bc9eb-8c5c-414b-e7a8-9ce5cd1fe53e"
      },
      "source": [
        "ls"
      ],
      "execution_count": 8,
      "outputs": [
        {
          "output_type": "stream",
          "text": [
            "\u001b[0m\u001b[01;34mdrive\u001b[0m/  \u001b[01;34msample_data\u001b[0m/\n"
          ],
          "name": "stdout"
        }
      ]
    },
    {
      "cell_type": "code",
      "metadata": {
        "id": "Bv4oRbsNS-ir",
        "colab_type": "code",
        "colab": {
          "base_uri": "https://localhost:8080/",
          "height": 222
        },
        "outputId": "c7a53c25-2e05-44f0-c822-1da12673aefc"
      },
      "source": [
        "df.head(5)"
      ],
      "execution_count": 10,
      "outputs": [
        {
          "output_type": "execute_result",
          "data": {
            "text/html": [
              "<div>\n",
              "<style scoped>\n",
              "    .dataframe tbody tr th:only-of-type {\n",
              "        vertical-align: middle;\n",
              "    }\n",
              "\n",
              "    .dataframe tbody tr th {\n",
              "        vertical-align: top;\n",
              "    }\n",
              "\n",
              "    .dataframe thead th {\n",
              "        text-align: right;\n",
              "    }\n",
              "</style>\n",
              "<table border=\"1\" class=\"dataframe\">\n",
              "  <thead>\n",
              "    <tr style=\"text-align: right;\">\n",
              "      <th></th>\n",
              "      <th>longitude</th>\n",
              "      <th>latitude</th>\n",
              "      <th>housing_median_age</th>\n",
              "      <th>total_rooms</th>\n",
              "      <th>total_bedrooms</th>\n",
              "      <th>population</th>\n",
              "      <th>households</th>\n",
              "      <th>median_income</th>\n",
              "      <th>median_house_value</th>\n",
              "    </tr>\n",
              "  </thead>\n",
              "  <tbody>\n",
              "    <tr>\n",
              "      <th>0</th>\n",
              "      <td>-114.31</td>\n",
              "      <td>34.19</td>\n",
              "      <td>15.0</td>\n",
              "      <td>5612.0</td>\n",
              "      <td>1283.0</td>\n",
              "      <td>1015.0</td>\n",
              "      <td>472.0</td>\n",
              "      <td>1.4936</td>\n",
              "      <td>66900.0</td>\n",
              "    </tr>\n",
              "    <tr>\n",
              "      <th>1</th>\n",
              "      <td>-114.47</td>\n",
              "      <td>34.40</td>\n",
              "      <td>19.0</td>\n",
              "      <td>7650.0</td>\n",
              "      <td>1901.0</td>\n",
              "      <td>1129.0</td>\n",
              "      <td>463.0</td>\n",
              "      <td>1.8200</td>\n",
              "      <td>80100.0</td>\n",
              "    </tr>\n",
              "    <tr>\n",
              "      <th>2</th>\n",
              "      <td>-114.56</td>\n",
              "      <td>33.69</td>\n",
              "      <td>17.0</td>\n",
              "      <td>720.0</td>\n",
              "      <td>174.0</td>\n",
              "      <td>333.0</td>\n",
              "      <td>117.0</td>\n",
              "      <td>1.6509</td>\n",
              "      <td>85700.0</td>\n",
              "    </tr>\n",
              "    <tr>\n",
              "      <th>3</th>\n",
              "      <td>-114.57</td>\n",
              "      <td>33.64</td>\n",
              "      <td>14.0</td>\n",
              "      <td>1501.0</td>\n",
              "      <td>337.0</td>\n",
              "      <td>515.0</td>\n",
              "      <td>226.0</td>\n",
              "      <td>3.1917</td>\n",
              "      <td>73400.0</td>\n",
              "    </tr>\n",
              "    <tr>\n",
              "      <th>4</th>\n",
              "      <td>-114.57</td>\n",
              "      <td>33.57</td>\n",
              "      <td>20.0</td>\n",
              "      <td>1454.0</td>\n",
              "      <td>326.0</td>\n",
              "      <td>624.0</td>\n",
              "      <td>262.0</td>\n",
              "      <td>1.9250</td>\n",
              "      <td>65500.0</td>\n",
              "    </tr>\n",
              "  </tbody>\n",
              "</table>\n",
              "</div>"
            ],
            "text/plain": [
              "   longitude  latitude  ...  median_income  median_house_value\n",
              "0    -114.31     34.19  ...         1.4936             66900.0\n",
              "1    -114.47     34.40  ...         1.8200             80100.0\n",
              "2    -114.56     33.69  ...         1.6509             85700.0\n",
              "3    -114.57     33.64  ...         3.1917             73400.0\n",
              "4    -114.57     33.57  ...         1.9250             65500.0\n",
              "\n",
              "[5 rows x 9 columns]"
            ]
          },
          "metadata": {
            "tags": []
          },
          "execution_count": 10
        }
      ]
    },
    {
      "cell_type": "code",
      "metadata": {
        "id": "ux5DnuETTHx5",
        "colab_type": "code",
        "colab": {}
      },
      "source": [
        "from sklearn.preprocessing import StandardScaler\n",
        "ss=StandardScaler()\n",
        "df=ss.fit_transform(df)\n",
        "df=pd.DataFrame(df)"
      ],
      "execution_count": 0,
      "outputs": []
    },
    {
      "cell_type": "code",
      "metadata": {
        "id": "AMl6V7B_TZlo",
        "colab_type": "code",
        "colab": {
          "base_uri": "https://localhost:8080/",
          "height": 202
        },
        "outputId": "7b3b36eb-764e-4f5b-bc70-db0e191d4161"
      },
      "source": [
        "df.head(5)"
      ],
      "execution_count": 15,
      "outputs": [
        {
          "output_type": "execute_result",
          "data": {
            "text/html": [
              "<div>\n",
              "<style scoped>\n",
              "    .dataframe tbody tr th:only-of-type {\n",
              "        vertical-align: middle;\n",
              "    }\n",
              "\n",
              "    .dataframe tbody tr th {\n",
              "        vertical-align: top;\n",
              "    }\n",
              "\n",
              "    .dataframe thead th {\n",
              "        text-align: right;\n",
              "    }\n",
              "</style>\n",
              "<table border=\"1\" class=\"dataframe\">\n",
              "  <thead>\n",
              "    <tr style=\"text-align: right;\">\n",
              "      <th></th>\n",
              "      <th>0</th>\n",
              "      <th>1</th>\n",
              "      <th>2</th>\n",
              "      <th>3</th>\n",
              "      <th>4</th>\n",
              "      <th>5</th>\n",
              "      <th>6</th>\n",
              "      <th>7</th>\n",
              "      <th>8</th>\n",
              "    </tr>\n",
              "  </thead>\n",
              "  <tbody>\n",
              "    <tr>\n",
              "      <th>0</th>\n",
              "      <td>2.619365</td>\n",
              "      <td>-0.671520</td>\n",
              "      <td>-1.079671</td>\n",
              "      <td>1.361695</td>\n",
              "      <td>1.764204</td>\n",
              "      <td>-0.361184</td>\n",
              "      <td>-0.075998</td>\n",
              "      <td>-1.252543</td>\n",
              "      <td>-1.210558</td>\n",
              "    </tr>\n",
              "    <tr>\n",
              "      <th>1</th>\n",
              "      <td>2.539569</td>\n",
              "      <td>-0.573264</td>\n",
              "      <td>-0.761872</td>\n",
              "      <td>2.296608</td>\n",
              "      <td>3.230441</td>\n",
              "      <td>-0.261865</td>\n",
              "      <td>-0.099404</td>\n",
              "      <td>-1.081483</td>\n",
              "      <td>-1.096745</td>\n",
              "    </tr>\n",
              "    <tr>\n",
              "      <th>2</th>\n",
              "      <td>2.494683</td>\n",
              "      <td>-0.905463</td>\n",
              "      <td>-0.920772</td>\n",
              "      <td>-0.882462</td>\n",
              "      <td>-0.866956</td>\n",
              "      <td>-0.955354</td>\n",
              "      <td>-0.999252</td>\n",
              "      <td>-1.170105</td>\n",
              "      <td>-1.048461</td>\n",
              "    </tr>\n",
              "    <tr>\n",
              "      <th>3</th>\n",
              "      <td>2.489696</td>\n",
              "      <td>-0.928857</td>\n",
              "      <td>-1.159121</td>\n",
              "      <td>-0.524186</td>\n",
              "      <td>-0.480230</td>\n",
              "      <td>-0.796793</td>\n",
              "      <td>-0.715774</td>\n",
              "      <td>-0.362600</td>\n",
              "      <td>-1.154514</td>\n",
              "    </tr>\n",
              "    <tr>\n",
              "      <th>4</th>\n",
              "      <td>2.489696</td>\n",
              "      <td>-0.961609</td>\n",
              "      <td>-0.682422</td>\n",
              "      <td>-0.545747</td>\n",
              "      <td>-0.506328</td>\n",
              "      <td>-0.701830</td>\n",
              "      <td>-0.622148</td>\n",
              "      <td>-1.026454</td>\n",
              "      <td>-1.222629</td>\n",
              "    </tr>\n",
              "  </tbody>\n",
              "</table>\n",
              "</div>"
            ],
            "text/plain": [
              "          0         1         2  ...         6         7         8\n",
              "0  2.619365 -0.671520 -1.079671  ... -0.075998 -1.252543 -1.210558\n",
              "1  2.539569 -0.573264 -0.761872  ... -0.099404 -1.081483 -1.096745\n",
              "2  2.494683 -0.905463 -0.920772  ... -0.999252 -1.170105 -1.048461\n",
              "3  2.489696 -0.928857 -1.159121  ... -0.715774 -0.362600 -1.154514\n",
              "4  2.489696 -0.961609 -0.682422  ... -0.622148 -1.026454 -1.222629\n",
              "\n",
              "[5 rows x 9 columns]"
            ]
          },
          "metadata": {
            "tags": []
          },
          "execution_count": 15
        }
      ]
    },
    {
      "cell_type": "code",
      "metadata": {
        "id": "kkv8ZcA5TeTA",
        "colab_type": "code",
        "colab": {
          "base_uri": "https://localhost:8080/",
          "height": 191
        },
        "outputId": "b2fde2c3-ff34-4599-ffd1-29146c78cbf7"
      },
      "source": [
        "df.isnull().sum()"
      ],
      "execution_count": 16,
      "outputs": [
        {
          "output_type": "execute_result",
          "data": {
            "text/plain": [
              "0    0\n",
              "1    0\n",
              "2    0\n",
              "3    0\n",
              "4    0\n",
              "5    0\n",
              "6    0\n",
              "7    0\n",
              "8    0\n",
              "dtype: int64"
            ]
          },
          "metadata": {
            "tags": []
          },
          "execution_count": 16
        }
      ]
    },
    {
      "cell_type": "code",
      "metadata": {
        "id": "0RVbhgAZTlQ0",
        "colab_type": "code",
        "colab": {}
      },
      "source": [
        "x=df.iloc[:,0:8]"
      ],
      "execution_count": 0,
      "outputs": []
    },
    {
      "cell_type": "code",
      "metadata": {
        "id": "9c5xmZcITs6s",
        "colab_type": "code",
        "colab": {
          "base_uri": "https://localhost:8080/",
          "height": 415
        },
        "outputId": "817e169e-df77-4c81-8a90-325ac3585767"
      },
      "source": [
        "x"
      ],
      "execution_count": 25,
      "outputs": [
        {
          "output_type": "execute_result",
          "data": {
            "text/html": [
              "<div>\n",
              "<style scoped>\n",
              "    .dataframe tbody tr th:only-of-type {\n",
              "        vertical-align: middle;\n",
              "    }\n",
              "\n",
              "    .dataframe tbody tr th {\n",
              "        vertical-align: top;\n",
              "    }\n",
              "\n",
              "    .dataframe thead th {\n",
              "        text-align: right;\n",
              "    }\n",
              "</style>\n",
              "<table border=\"1\" class=\"dataframe\">\n",
              "  <thead>\n",
              "    <tr style=\"text-align: right;\">\n",
              "      <th></th>\n",
              "      <th>0</th>\n",
              "      <th>1</th>\n",
              "      <th>2</th>\n",
              "      <th>3</th>\n",
              "      <th>4</th>\n",
              "      <th>5</th>\n",
              "      <th>6</th>\n",
              "      <th>7</th>\n",
              "    </tr>\n",
              "  </thead>\n",
              "  <tbody>\n",
              "    <tr>\n",
              "      <th>0</th>\n",
              "      <td>2.619365</td>\n",
              "      <td>-0.671520</td>\n",
              "      <td>-1.079671</td>\n",
              "      <td>1.361695</td>\n",
              "      <td>1.764204</td>\n",
              "      <td>-0.361184</td>\n",
              "      <td>-0.075998</td>\n",
              "      <td>-1.252543</td>\n",
              "    </tr>\n",
              "    <tr>\n",
              "      <th>1</th>\n",
              "      <td>2.539569</td>\n",
              "      <td>-0.573264</td>\n",
              "      <td>-0.761872</td>\n",
              "      <td>2.296608</td>\n",
              "      <td>3.230441</td>\n",
              "      <td>-0.261865</td>\n",
              "      <td>-0.099404</td>\n",
              "      <td>-1.081483</td>\n",
              "    </tr>\n",
              "    <tr>\n",
              "      <th>2</th>\n",
              "      <td>2.494683</td>\n",
              "      <td>-0.905463</td>\n",
              "      <td>-0.920772</td>\n",
              "      <td>-0.882462</td>\n",
              "      <td>-0.866956</td>\n",
              "      <td>-0.955354</td>\n",
              "      <td>-0.999252</td>\n",
              "      <td>-1.170105</td>\n",
              "    </tr>\n",
              "    <tr>\n",
              "      <th>3</th>\n",
              "      <td>2.489696</td>\n",
              "      <td>-0.928857</td>\n",
              "      <td>-1.159121</td>\n",
              "      <td>-0.524186</td>\n",
              "      <td>-0.480230</td>\n",
              "      <td>-0.796793</td>\n",
              "      <td>-0.715774</td>\n",
              "      <td>-0.362600</td>\n",
              "    </tr>\n",
              "    <tr>\n",
              "      <th>4</th>\n",
              "      <td>2.489696</td>\n",
              "      <td>-0.961609</td>\n",
              "      <td>-0.682422</td>\n",
              "      <td>-0.545747</td>\n",
              "      <td>-0.506328</td>\n",
              "      <td>-0.701830</td>\n",
              "      <td>-0.622148</td>\n",
              "      <td>-1.026454</td>\n",
              "    </tr>\n",
              "    <tr>\n",
              "      <th>...</th>\n",
              "      <td>...</td>\n",
              "      <td>...</td>\n",
              "      <td>...</td>\n",
              "      <td>...</td>\n",
              "      <td>...</td>\n",
              "      <td>...</td>\n",
              "      <td>...</td>\n",
              "      <td>...</td>\n",
              "    </tr>\n",
              "    <tr>\n",
              "      <th>16995</th>\n",
              "      <td>-2.342963</td>\n",
              "      <td>2.318265</td>\n",
              "      <td>1.859971</td>\n",
              "      <td>-0.195728</td>\n",
              "      <td>-0.344995</td>\n",
              "      <td>-0.455275</td>\n",
              "      <td>-0.343872</td>\n",
              "      <td>-0.799999</td>\n",
              "    </tr>\n",
              "    <tr>\n",
              "      <th>16996</th>\n",
              "      <td>-2.347950</td>\n",
              "      <td>2.369733</td>\n",
              "      <td>0.588774</td>\n",
              "      <td>-0.135174</td>\n",
              "      <td>-0.027073</td>\n",
              "      <td>-0.205236</td>\n",
              "      <td>-0.094203</td>\n",
              "      <td>-0.715727</td>\n",
              "    </tr>\n",
              "    <tr>\n",
              "      <th>16997</th>\n",
              "      <td>-2.362912</td>\n",
              "      <td>2.907801</td>\n",
              "      <td>-0.920772</td>\n",
              "      <td>0.015292</td>\n",
              "      <td>-0.019955</td>\n",
              "      <td>-0.161675</td>\n",
              "      <td>-0.117609</td>\n",
              "      <td>-0.446663</td>\n",
              "    </tr>\n",
              "    <tr>\n",
              "      <th>16998</th>\n",
              "      <td>-2.362912</td>\n",
              "      <td>2.889085</td>\n",
              "      <td>-0.761872</td>\n",
              "      <td>0.012999</td>\n",
              "      <td>0.029868</td>\n",
              "      <td>-0.114630</td>\n",
              "      <td>-0.060394</td>\n",
              "      <td>-0.997787</td>\n",
              "    </tr>\n",
              "    <tr>\n",
              "      <th>16999</th>\n",
              "      <td>-2.387848</td>\n",
              "      <td>2.299550</td>\n",
              "      <td>1.859971</td>\n",
              "      <td>-0.377848</td>\n",
              "      <td>-0.568015</td>\n",
              "      <td>-0.543268</td>\n",
              "      <td>-0.601343</td>\n",
              "      <td>-0.455363</td>\n",
              "    </tr>\n",
              "  </tbody>\n",
              "</table>\n",
              "<p>17000 rows × 8 columns</p>\n",
              "</div>"
            ],
            "text/plain": [
              "              0         1         2  ...         5         6         7\n",
              "0      2.619365 -0.671520 -1.079671  ... -0.361184 -0.075998 -1.252543\n",
              "1      2.539569 -0.573264 -0.761872  ... -0.261865 -0.099404 -1.081483\n",
              "2      2.494683 -0.905463 -0.920772  ... -0.955354 -0.999252 -1.170105\n",
              "3      2.489696 -0.928857 -1.159121  ... -0.796793 -0.715774 -0.362600\n",
              "4      2.489696 -0.961609 -0.682422  ... -0.701830 -0.622148 -1.026454\n",
              "...         ...       ...       ...  ...       ...       ...       ...\n",
              "16995 -2.342963  2.318265  1.859971  ... -0.455275 -0.343872 -0.799999\n",
              "16996 -2.347950  2.369733  0.588774  ... -0.205236 -0.094203 -0.715727\n",
              "16997 -2.362912  2.907801 -0.920772  ... -0.161675 -0.117609 -0.446663\n",
              "16998 -2.362912  2.889085 -0.761872  ... -0.114630 -0.060394 -0.997787\n",
              "16999 -2.387848  2.299550  1.859971  ... -0.543268 -0.601343 -0.455363\n",
              "\n",
              "[17000 rows x 8 columns]"
            ]
          },
          "metadata": {
            "tags": []
          },
          "execution_count": 25
        }
      ]
    },
    {
      "cell_type": "code",
      "metadata": {
        "id": "46eI63K-Tx0S",
        "colab_type": "code",
        "colab": {}
      },
      "source": [
        "y=df.iloc[:,8]"
      ],
      "execution_count": 0,
      "outputs": []
    },
    {
      "cell_type": "code",
      "metadata": {
        "id": "raR2O9flT-Q4",
        "colab_type": "code",
        "colab": {}
      },
      "source": [
        "from sklearn.model_selection import train_test_split\n",
        "x_train,x_test,y_train,y_test=train_test_split(x,y,test_size=0.25,random_state=0)"
      ],
      "execution_count": 0,
      "outputs": []
    },
    {
      "cell_type": "code",
      "metadata": {
        "id": "tYvYGCbzULOE",
        "colab_type": "code",
        "colab": {}
      },
      "source": [
        "model=Sequential()\n",
        "model.add(Dense(32,activation='relu',input_shape=(8,)))\n",
        "model.add(Dense(64,activation='relu'))\n",
        "model.add(Dense(64,activation='relu'))\n",
        "model.add(Dense(64,activation='relu'))\n",
        "model.add(Dense(1))"
      ],
      "execution_count": 0,
      "outputs": []
    },
    {
      "cell_type": "code",
      "metadata": {
        "id": "EFWbakT_UiBc",
        "colab_type": "code",
        "colab": {}
      },
      "source": [
        "model.compile(loss='mean_squared_error',optimizer='adam')"
      ],
      "execution_count": 0,
      "outputs": []
    },
    {
      "cell_type": "code",
      "metadata": {
        "id": "E1LoCo-NWvu5",
        "colab_type": "code",
        "colab": {
          "base_uri": "https://localhost:8080/",
          "height": 1000
        },
        "outputId": "d75ba611-0463-4b79-a32f-2c63fa53c62c"
      },
      "source": [
        "model.fit(x_train,y_train,epochs=100,batch_size=10)"
      ],
      "execution_count": 33,
      "outputs": [
        {
          "output_type": "stream",
          "text": [
            "Epoch 1/100\n",
            "12750/12750 [==============================] - 2s 155us/step - loss: 0.3337\n",
            "Epoch 2/100\n",
            "12750/12750 [==============================] - 2s 138us/step - loss: 0.2659\n",
            "Epoch 3/100\n",
            "12750/12750 [==============================] - 2s 124us/step - loss: 0.2508\n",
            "Epoch 4/100\n",
            "12750/12750 [==============================] - 2s 129us/step - loss: 0.2378\n",
            "Epoch 5/100\n",
            "12750/12750 [==============================] - 2s 118us/step - loss: 0.2301\n",
            "Epoch 6/100\n",
            "12750/12750 [==============================] - 2s 122us/step - loss: 0.2237\n",
            "Epoch 7/100\n",
            "12750/12750 [==============================] - 2s 124us/step - loss: 0.2180\n",
            "Epoch 8/100\n",
            "12750/12750 [==============================] - 2s 123us/step - loss: 0.2135\n",
            "Epoch 9/100\n",
            "12750/12750 [==============================] - 2s 129us/step - loss: 0.2100\n",
            "Epoch 10/100\n",
            "12750/12750 [==============================] - 2s 123us/step - loss: 0.2066\n",
            "Epoch 11/100\n",
            "12750/12750 [==============================] - 2s 122us/step - loss: 0.2039\n",
            "Epoch 12/100\n",
            "12750/12750 [==============================] - 2s 126us/step - loss: 0.2017\n",
            "Epoch 13/100\n",
            "12750/12750 [==============================] - 2s 130us/step - loss: 0.1978\n",
            "Epoch 14/100\n",
            "12750/12750 [==============================] - 2s 123us/step - loss: 0.1963\n",
            "Epoch 15/100\n",
            "12750/12750 [==============================] - 2s 121us/step - loss: 0.1931\n",
            "Epoch 16/100\n",
            "12750/12750 [==============================] - 2s 121us/step - loss: 0.1921\n",
            "Epoch 17/100\n",
            "12750/12750 [==============================] - 2s 121us/step - loss: 0.1896\n",
            "Epoch 18/100\n",
            "12750/12750 [==============================] - 2s 129us/step - loss: 0.1878\n",
            "Epoch 19/100\n",
            "12750/12750 [==============================] - 2s 127us/step - loss: 0.1867\n",
            "Epoch 20/100\n",
            "12750/12750 [==============================] - 2s 123us/step - loss: 0.1843\n",
            "Epoch 21/100\n",
            "12750/12750 [==============================] - 2s 128us/step - loss: 0.1838\n",
            "Epoch 22/100\n",
            "12750/12750 [==============================] - 2s 132us/step - loss: 0.1828\n",
            "Epoch 23/100\n",
            "12750/12750 [==============================] - 2s 138us/step - loss: 0.1789\n",
            "Epoch 24/100\n",
            "12750/12750 [==============================] - 2s 125us/step - loss: 0.1799\n",
            "Epoch 25/100\n",
            "12750/12750 [==============================] - 2s 118us/step - loss: 0.1774\n",
            "Epoch 26/100\n",
            "12750/12750 [==============================] - 2s 120us/step - loss: 0.1756\n",
            "Epoch 27/100\n",
            "12750/12750 [==============================] - 2s 125us/step - loss: 0.1751\n",
            "Epoch 28/100\n",
            "12750/12750 [==============================] - 1s 117us/step - loss: 0.1755\n",
            "Epoch 29/100\n",
            "12750/12750 [==============================] - 1s 117us/step - loss: 0.1718\n",
            "Epoch 30/100\n",
            "12750/12750 [==============================] - 1s 116us/step - loss: 0.1715\n",
            "Epoch 31/100\n",
            "12750/12750 [==============================] - 2s 122us/step - loss: 0.1708\n",
            "Epoch 32/100\n",
            "12750/12750 [==============================] - 2s 122us/step - loss: 0.1694\n",
            "Epoch 33/100\n",
            "12750/12750 [==============================] - 2s 120us/step - loss: 0.1697\n",
            "Epoch 34/100\n",
            "12750/12750 [==============================] - 2s 127us/step - loss: 0.1684\n",
            "Epoch 35/100\n",
            "12750/12750 [==============================] - 2s 118us/step - loss: 0.1657\n",
            "Epoch 36/100\n",
            "12750/12750 [==============================] - 2s 129us/step - loss: 0.1648\n",
            "Epoch 37/100\n",
            "12750/12750 [==============================] - 2s 122us/step - loss: 0.1632\n",
            "Epoch 38/100\n",
            "12750/12750 [==============================] - 2s 126us/step - loss: 0.1622\n",
            "Epoch 39/100\n",
            "12750/12750 [==============================] - 2s 122us/step - loss: 0.1614\n",
            "Epoch 40/100\n",
            "12750/12750 [==============================] - 2s 131us/step - loss: 0.1591\n",
            "Epoch 41/100\n",
            "12750/12750 [==============================] - 2s 127us/step - loss: 0.1579\n",
            "Epoch 42/100\n",
            "12750/12750 [==============================] - 2s 123us/step - loss: 0.1583\n",
            "Epoch 43/100\n",
            "12750/12750 [==============================] - 2s 120us/step - loss: 0.1568\n",
            "Epoch 44/100\n",
            "12750/12750 [==============================] - 2s 121us/step - loss: 0.1545\n",
            "Epoch 45/100\n",
            "12750/12750 [==============================] - 2s 121us/step - loss: 0.1537\n",
            "Epoch 46/100\n",
            "12750/12750 [==============================] - 2s 128us/step - loss: 0.1522\n",
            "Epoch 47/100\n",
            "12750/12750 [==============================] - 2s 121us/step - loss: 0.1532\n",
            "Epoch 48/100\n",
            "12750/12750 [==============================] - 2s 118us/step - loss: 0.1499\n",
            "Epoch 49/100\n",
            "12750/12750 [==============================] - 2s 127us/step - loss: 0.1514\n",
            "Epoch 50/100\n",
            "12750/12750 [==============================] - 2s 126us/step - loss: 0.1495\n",
            "Epoch 51/100\n",
            "12750/12750 [==============================] - 2s 128us/step - loss: 0.1482\n",
            "Epoch 52/100\n",
            "12750/12750 [==============================] - 2s 130us/step - loss: 0.1459\n",
            "Epoch 53/100\n",
            "12750/12750 [==============================] - 2s 123us/step - loss: 0.1454\n",
            "Epoch 54/100\n",
            "12750/12750 [==============================] - 2s 122us/step - loss: 0.1458\n",
            "Epoch 55/100\n",
            "12750/12750 [==============================] - 2s 133us/step - loss: 0.1455\n",
            "Epoch 56/100\n",
            "12750/12750 [==============================] - 2s 122us/step - loss: 0.1408\n",
            "Epoch 57/100\n",
            "12750/12750 [==============================] - 2s 121us/step - loss: 0.1412\n",
            "Epoch 58/100\n",
            "12750/12750 [==============================] - 2s 125us/step - loss: 0.1387\n",
            "Epoch 59/100\n",
            "12750/12750 [==============================] - 2s 125us/step - loss: 0.1418\n",
            "Epoch 60/100\n",
            "12750/12750 [==============================] - 2s 122us/step - loss: 0.1372\n",
            "Epoch 61/100\n",
            "12750/12750 [==============================] - 2s 134us/step - loss: 0.1372\n",
            "Epoch 62/100\n",
            "12750/12750 [==============================] - 2s 125us/step - loss: 0.1395\n",
            "Epoch 63/100\n",
            "12750/12750 [==============================] - 2s 132us/step - loss: 0.1368\n",
            "Epoch 64/100\n",
            "12750/12750 [==============================] - 2s 124us/step - loss: 0.1352\n",
            "Epoch 65/100\n",
            "12750/12750 [==============================] - 2s 125us/step - loss: 0.1338\n",
            "Epoch 66/100\n",
            "12750/12750 [==============================] - 2s 118us/step - loss: 0.1324\n",
            "Epoch 67/100\n",
            "12750/12750 [==============================] - 2s 120us/step - loss: 0.1302\n",
            "Epoch 68/100\n",
            "12750/12750 [==============================] - 2s 130us/step - loss: 0.1334\n",
            "Epoch 69/100\n",
            "12750/12750 [==============================] - 2s 126us/step - loss: 0.1302\n",
            "Epoch 70/100\n",
            "12750/12750 [==============================] - 2s 123us/step - loss: 0.1303\n",
            "Epoch 71/100\n",
            "12750/12750 [==============================] - 2s 119us/step - loss: 0.1302\n",
            "Epoch 72/100\n",
            "12750/12750 [==============================] - 2s 120us/step - loss: 0.1274\n",
            "Epoch 73/100\n",
            "12750/12750 [==============================] - 2s 121us/step - loss: 0.1279\n",
            "Epoch 74/100\n",
            "12750/12750 [==============================] - 2s 118us/step - loss: 0.1264\n",
            "Epoch 75/100\n",
            "12750/12750 [==============================] - 2s 119us/step - loss: 0.1240\n",
            "Epoch 76/100\n",
            "12750/12750 [==============================] - 2s 121us/step - loss: 0.1266\n",
            "Epoch 77/100\n",
            "12750/12750 [==============================] - 2s 120us/step - loss: 0.1243\n",
            "Epoch 78/100\n",
            "12750/12750 [==============================] - 2s 126us/step - loss: 0.1219\n",
            "Epoch 79/100\n",
            "12750/12750 [==============================] - 2s 123us/step - loss: 0.1240\n",
            "Epoch 80/100\n",
            "12750/12750 [==============================] - 2s 127us/step - loss: 0.1214\n",
            "Epoch 81/100\n",
            "12750/12750 [==============================] - 2s 124us/step - loss: 0.1226\n",
            "Epoch 82/100\n",
            "12750/12750 [==============================] - 2s 121us/step - loss: 0.1203\n",
            "Epoch 83/100\n",
            "12750/12750 [==============================] - 2s 123us/step - loss: 0.1196\n",
            "Epoch 84/100\n",
            "12750/12750 [==============================] - 2s 123us/step - loss: 0.1207\n",
            "Epoch 85/100\n",
            "12750/12750 [==============================] - 2s 119us/step - loss: 0.1183\n",
            "Epoch 86/100\n",
            "12750/12750 [==============================] - 2s 119us/step - loss: 0.1203\n",
            "Epoch 87/100\n",
            "12750/12750 [==============================] - 2s 131us/step - loss: 0.1184\n",
            "Epoch 88/100\n",
            "12750/12750 [==============================] - 2s 127us/step - loss: 0.1159\n",
            "Epoch 89/100\n",
            "12750/12750 [==============================] - 2s 122us/step - loss: 0.1186\n",
            "Epoch 90/100\n",
            "12750/12750 [==============================] - 2s 128us/step - loss: 0.1177\n",
            "Epoch 91/100\n",
            "12750/12750 [==============================] - 2s 118us/step - loss: 0.1155\n",
            "Epoch 92/100\n",
            "12750/12750 [==============================] - 2s 123us/step - loss: 0.1154\n",
            "Epoch 93/100\n",
            "12750/12750 [==============================] - 2s 131us/step - loss: 0.1134\n",
            "Epoch 94/100\n",
            "12750/12750 [==============================] - 2s 125us/step - loss: 0.1125\n",
            "Epoch 95/100\n",
            "12750/12750 [==============================] - 2s 126us/step - loss: 0.1122\n",
            "Epoch 96/100\n",
            "12750/12750 [==============================] - 2s 123us/step - loss: 0.1130\n",
            "Epoch 97/100\n",
            "12750/12750 [==============================] - 2s 122us/step - loss: 0.1138\n",
            "Epoch 98/100\n",
            "12750/12750 [==============================] - 2s 122us/step - loss: 0.1141\n",
            "Epoch 99/100\n",
            "12750/12750 [==============================] - 2s 122us/step - loss: 0.1088\n",
            "Epoch 100/100\n",
            "12750/12750 [==============================] - 2s 123us/step - loss: 0.1129\n"
          ],
          "name": "stdout"
        },
        {
          "output_type": "execute_result",
          "data": {
            "text/plain": [
              "<keras.callbacks.callbacks.History at 0x7fa21db1b438>"
            ]
          },
          "metadata": {
            "tags": []
          },
          "execution_count": 33
        }
      ]
    },
    {
      "cell_type": "code",
      "metadata": {
        "id": "DZSuRc6_W6hW",
        "colab_type": "code",
        "colab": {}
      },
      "source": [
        "y_pred=model.predict(x_test)"
      ],
      "execution_count": 0,
      "outputs": []
    },
    {
      "cell_type": "code",
      "metadata": {
        "id": "kODZ2A2Vdq--",
        "colab_type": "code",
        "colab": {}
      },
      "source": [
        "y_pred=pd.DataFrame(y_pred)"
      ],
      "execution_count": 0,
      "outputs": []
    },
    {
      "cell_type": "code",
      "metadata": {
        "id": "kQ8eBRwDdtZK",
        "colab_type": "code",
        "colab": {
          "base_uri": "https://localhost:8080/",
          "height": 34
        },
        "outputId": "51060129-267a-48db-d30f-3b92fca17024"
      },
      "source": [
        "from sklearn.metrics import r2_score\n",
        "r2_score(y_test,y_pred)*100"
      ],
      "execution_count": 39,
      "outputs": [
        {
          "output_type": "execute_result",
          "data": {
            "text/plain": [
              "78.45892750767558"
            ]
          },
          "metadata": {
            "tags": []
          },
          "execution_count": 39
        }
      ]
    },
    {
      "cell_type": "code",
      "metadata": {
        "id": "Ze1Ooa8Vd-on",
        "colab_type": "code",
        "colab": {}
      },
      "source": [
        ""
      ],
      "execution_count": 0,
      "outputs": []
    }
  ]
}